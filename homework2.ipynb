{
  "nbformat": 4,
  "nbformat_minor": 0,
  "metadata": {
    "colab": {
      "provenance": [],
      "collapsed_sections": []
    },
    "kernelspec": {
      "name": "python3",
      "display_name": "Python 3"
    },
    "language_info": {
      "name": "python"
    }
  },
  "cells": [
    {
      "cell_type": "code",
      "source": [
        "import numpy as np\n",
        "import pandas as pd"
      ],
      "metadata": {
        "id": "OoprxkXWPvdl"
      },
      "execution_count": null,
      "outputs": []
    },
    {
      "cell_type": "code",
      "source": [
        "ds=pd.read_csv(\"red_wine.csv\")"
      ],
      "metadata": {
        "id": "6vKqPmDjQlBR"
      },
      "execution_count": null,
      "outputs": []
    },
    {
      "cell_type": "code",
      "source": [
        "ds.head(5)"
      ],
      "metadata": {
        "colab": {
          "base_uri": "https://localhost:8080/",
          "height": 206
        },
        "id": "FoNwwkAnQtNq",
        "outputId": "b98f73e7-95fb-45ac-bd63-55aa749e656e"
      },
      "execution_count": null,
      "outputs": [
        {
          "output_type": "execute_result",
          "data": {
            "text/plain": [
              "   citric acid  sulphates  alcohol  type\n",
              "0         0.49       0.63      8.0   low\n",
              "1         0.66       0.57      8.3   low\n",
              "2         0.23       0.44      8.5  high\n",
              "3         0.44       0.84      8.6   low\n",
              "4         0.08       0.50      8.7   low"
            ],
            "text/html": [
              "\n",
              "  <div id=\"df-e7c0477c-ce5f-4e38-9993-ee5b3cb9573b\">\n",
              "    <div class=\"colab-df-container\">\n",
              "      <div>\n",
              "<style scoped>\n",
              "    .dataframe tbody tr th:only-of-type {\n",
              "        vertical-align: middle;\n",
              "    }\n",
              "\n",
              "    .dataframe tbody tr th {\n",
              "        vertical-align: top;\n",
              "    }\n",
              "\n",
              "    .dataframe thead th {\n",
              "        text-align: right;\n",
              "    }\n",
              "</style>\n",
              "<table border=\"1\" class=\"dataframe\">\n",
              "  <thead>\n",
              "    <tr style=\"text-align: right;\">\n",
              "      <th></th>\n",
              "      <th>citric acid</th>\n",
              "      <th>sulphates</th>\n",
              "      <th>alcohol</th>\n",
              "      <th>type</th>\n",
              "    </tr>\n",
              "  </thead>\n",
              "  <tbody>\n",
              "    <tr>\n",
              "      <th>0</th>\n",
              "      <td>0.49</td>\n",
              "      <td>0.63</td>\n",
              "      <td>8.0</td>\n",
              "      <td>low</td>\n",
              "    </tr>\n",
              "    <tr>\n",
              "      <th>1</th>\n",
              "      <td>0.66</td>\n",
              "      <td>0.57</td>\n",
              "      <td>8.3</td>\n",
              "      <td>low</td>\n",
              "    </tr>\n",
              "    <tr>\n",
              "      <th>2</th>\n",
              "      <td>0.23</td>\n",
              "      <td>0.44</td>\n",
              "      <td>8.5</td>\n",
              "      <td>high</td>\n",
              "    </tr>\n",
              "    <tr>\n",
              "      <th>3</th>\n",
              "      <td>0.44</td>\n",
              "      <td>0.84</td>\n",
              "      <td>8.6</td>\n",
              "      <td>low</td>\n",
              "    </tr>\n",
              "    <tr>\n",
              "      <th>4</th>\n",
              "      <td>0.08</td>\n",
              "      <td>0.50</td>\n",
              "      <td>8.7</td>\n",
              "      <td>low</td>\n",
              "    </tr>\n",
              "  </tbody>\n",
              "</table>\n",
              "</div>\n",
              "      <button class=\"colab-df-convert\" onclick=\"convertToInteractive('df-e7c0477c-ce5f-4e38-9993-ee5b3cb9573b')\"\n",
              "              title=\"Convert this dataframe to an interactive table.\"\n",
              "              style=\"display:none;\">\n",
              "        \n",
              "  <svg xmlns=\"http://www.w3.org/2000/svg\" height=\"24px\"viewBox=\"0 0 24 24\"\n",
              "       width=\"24px\">\n",
              "    <path d=\"M0 0h24v24H0V0z\" fill=\"none\"/>\n",
              "    <path d=\"M18.56 5.44l.94 2.06.94-2.06 2.06-.94-2.06-.94-.94-2.06-.94 2.06-2.06.94zm-11 1L8.5 8.5l.94-2.06 2.06-.94-2.06-.94L8.5 2.5l-.94 2.06-2.06.94zm10 10l.94 2.06.94-2.06 2.06-.94-2.06-.94-.94-2.06-.94 2.06-2.06.94z\"/><path d=\"M17.41 7.96l-1.37-1.37c-.4-.4-.92-.59-1.43-.59-.52 0-1.04.2-1.43.59L10.3 9.45l-7.72 7.72c-.78.78-.78 2.05 0 2.83L4 21.41c.39.39.9.59 1.41.59.51 0 1.02-.2 1.41-.59l7.78-7.78 2.81-2.81c.8-.78.8-2.07 0-2.86zM5.41 20L4 18.59l7.72-7.72 1.47 1.35L5.41 20z\"/>\n",
              "  </svg>\n",
              "      </button>\n",
              "      \n",
              "  <style>\n",
              "    .colab-df-container {\n",
              "      display:flex;\n",
              "      flex-wrap:wrap;\n",
              "      gap: 12px;\n",
              "    }\n",
              "\n",
              "    .colab-df-convert {\n",
              "      background-color: #E8F0FE;\n",
              "      border: none;\n",
              "      border-radius: 50%;\n",
              "      cursor: pointer;\n",
              "      display: none;\n",
              "      fill: #1967D2;\n",
              "      height: 32px;\n",
              "      padding: 0 0 0 0;\n",
              "      width: 32px;\n",
              "    }\n",
              "\n",
              "    .colab-df-convert:hover {\n",
              "      background-color: #E2EBFA;\n",
              "      box-shadow: 0px 1px 2px rgba(60, 64, 67, 0.3), 0px 1px 3px 1px rgba(60, 64, 67, 0.15);\n",
              "      fill: #174EA6;\n",
              "    }\n",
              "\n",
              "    [theme=dark] .colab-df-convert {\n",
              "      background-color: #3B4455;\n",
              "      fill: #D2E3FC;\n",
              "    }\n",
              "\n",
              "    [theme=dark] .colab-df-convert:hover {\n",
              "      background-color: #434B5C;\n",
              "      box-shadow: 0px 1px 3px 1px rgba(0, 0, 0, 0.15);\n",
              "      filter: drop-shadow(0px 1px 2px rgba(0, 0, 0, 0.3));\n",
              "      fill: #FFFFFF;\n",
              "    }\n",
              "  </style>\n",
              "\n",
              "      <script>\n",
              "        const buttonEl =\n",
              "          document.querySelector('#df-e7c0477c-ce5f-4e38-9993-ee5b3cb9573b button.colab-df-convert');\n",
              "        buttonEl.style.display =\n",
              "          google.colab.kernel.accessAllowed ? 'block' : 'none';\n",
              "\n",
              "        async function convertToInteractive(key) {\n",
              "          const element = document.querySelector('#df-e7c0477c-ce5f-4e38-9993-ee5b3cb9573b');\n",
              "          const dataTable =\n",
              "            await google.colab.kernel.invokeFunction('convertToInteractive',\n",
              "                                                     [key], {});\n",
              "          if (!dataTable) return;\n",
              "\n",
              "          const docLinkHtml = 'Like what you see? Visit the ' +\n",
              "            '<a target=\"_blank\" href=https://colab.research.google.com/notebooks/data_table.ipynb>data table notebook</a>'\n",
              "            + ' to learn more about interactive tables.';\n",
              "          element.innerHTML = '';\n",
              "          dataTable['output_type'] = 'display_data';\n",
              "          await google.colab.output.renderOutput(dataTable, element);\n",
              "          const docLink = document.createElement('div');\n",
              "          docLink.innerHTML = docLinkHtml;\n",
              "          element.appendChild(docLink);\n",
              "        }\n",
              "      </script>\n",
              "    </div>\n",
              "  </div>\n",
              "  "
            ]
          },
          "metadata": {},
          "execution_count": 4
        }
      ]
    },
    {
      "cell_type": "markdown",
      "source": [],
      "metadata": {
        "id": "_hV-swTCRuo5"
      }
    },
    {
      "cell_type": "code",
      "source": [
        "ds.isnull().sum()"
      ],
      "metadata": {
        "colab": {
          "base_uri": "https://localhost:8080/"
        },
        "id": "EkrSZXJoQ2Ri",
        "outputId": "41fc5934-69a1-478b-c565-5380e0f011e1"
      },
      "execution_count": null,
      "outputs": [
        {
          "output_type": "execute_result",
          "data": {
            "text/plain": [
              "citric acid    0\n",
              "sulphates      0\n",
              "alcohol        0\n",
              "type           0\n",
              "dtype: int64"
            ]
          },
          "metadata": {},
          "execution_count": 5
        }
      ]
    },
    {
      "cell_type": "code",
      "source": [
        "ds.info()"
      ],
      "metadata": {
        "colab": {
          "base_uri": "https://localhost:8080/"
        },
        "id": "MCT8dZyYQ7Ez",
        "outputId": "649aaa8a-c3de-4260-b5ee-df2e38cf1b91"
      },
      "execution_count": null,
      "outputs": [
        {
          "output_type": "stream",
          "name": "stdout",
          "text": [
            "<class 'pandas.core.frame.DataFrame'>\n",
            "RangeIndex: 571 entries, 0 to 570\n",
            "Data columns (total 4 columns):\n",
            " #   Column       Non-Null Count  Dtype  \n",
            "---  ------       --------------  -----  \n",
            " 0   citric acid  571 non-null    float64\n",
            " 1   sulphates    571 non-null    float64\n",
            " 2   alcohol      571 non-null    float64\n",
            " 3   type         571 non-null    object \n",
            "dtypes: float64(3), object(1)\n",
            "memory usage: 18.0+ KB\n"
          ]
        }
      ]
    },
    {
      "cell_type": "code",
      "source": [
        "a=ds.iloc[:,0:3].values\n",
        "b=ds.iloc[:,3:4].values"
      ],
      "metadata": {
        "id": "1gCmNUxPQ_IK"
      },
      "execution_count": null,
      "outputs": []
    },
    {
      "cell_type": "code",
      "source": [
        "a"
      ],
      "metadata": {
        "colab": {
          "base_uri": "https://localhost:8080/"
        },
        "id": "3Xjrk7z9Rdh2",
        "outputId": "c9979714-8091-4280-f359-50b578b3c184"
      },
      "execution_count": null,
      "outputs": [
        {
          "output_type": "execute_result",
          "data": {
            "text/plain": [
              "array([[ 0.49,  0.63,  8.  ],\n",
              "       [ 0.66,  0.57,  8.3 ],\n",
              "       [ 0.23,  0.44,  8.5 ],\n",
              "       ...,\n",
              "       [ 0.31,  0.6 , 12.8 ],\n",
              "       [ 0.34,  0.72, 12.8 ],\n",
              "       [ 0.35,  0.32, 12.8 ]])"
            ]
          },
          "metadata": {},
          "execution_count": 8
        }
      ]
    },
    {
      "cell_type": "code",
      "source": [
        "b"
      ],
      "metadata": {
        "colab": {
          "base_uri": "https://localhost:8080/"
        },
        "id": "7CG37wFuReeM",
        "outputId": "a0ae89d4-33e2-403a-aa60-5c92e1821286"
      },
      "execution_count": null,
      "outputs": [
        {
          "output_type": "execute_result",
          "data": {
            "text/plain": [
              "array([['low'],\n",
              "       ['low'],\n",
              "       ['high'],\n",
              "       ['low'],\n",
              "       ['low'],\n",
              "       ['low'],\n",
              "       ['low'],\n",
              "       ['low'],\n",
              "       ['high'],\n",
              "       ['high'],\n",
              "       ['high'],\n",
              "       ['high'],\n",
              "       ['high'],\n",
              "       ['low'],\n",
              "       ['low'],\n",
              "       ['low'],\n",
              "       ['high'],\n",
              "       ['high'],\n",
              "       ['high'],\n",
              "       ['low'],\n",
              "       ['high'],\n",
              "       ['high'],\n",
              "       ['high'],\n",
              "       ['high'],\n",
              "       ['low'],\n",
              "       ['high'],\n",
              "       ['high'],\n",
              "       ['high'],\n",
              "       ['high'],\n",
              "       ['high'],\n",
              "       ['high'],\n",
              "       ['high'],\n",
              "       ['low'],\n",
              "       ['high'],\n",
              "       ['low'],\n",
              "       ['high'],\n",
              "       ['high'],\n",
              "       ['high'],\n",
              "       ['high'],\n",
              "       ['high'],\n",
              "       ['high'],\n",
              "       ['low'],\n",
              "       ['high'],\n",
              "       ['high'],\n",
              "       ['high'],\n",
              "       ['high'],\n",
              "       ['low'],\n",
              "       ['low'],\n",
              "       ['high'],\n",
              "       ['low'],\n",
              "       ['high'],\n",
              "       ['low'],\n",
              "       ['low'],\n",
              "       ['high'],\n",
              "       ['high'],\n",
              "       ['high'],\n",
              "       ['high'],\n",
              "       ['low'],\n",
              "       ['high'],\n",
              "       ['high'],\n",
              "       ['high'],\n",
              "       ['low'],\n",
              "       ['high'],\n",
              "       ['high'],\n",
              "       ['high'],\n",
              "       ['high'],\n",
              "       ['low'],\n",
              "       ['high'],\n",
              "       ['high'],\n",
              "       ['high'],\n",
              "       ['high'],\n",
              "       ['high'],\n",
              "       ['low'],\n",
              "       ['low'],\n",
              "       ['low'],\n",
              "       ['low'],\n",
              "       ['low'],\n",
              "       ['high'],\n",
              "       ['low'],\n",
              "       ['low'],\n",
              "       ['high'],\n",
              "       ['low'],\n",
              "       ['low'],\n",
              "       ['low'],\n",
              "       ['high'],\n",
              "       ['high'],\n",
              "       ['high'],\n",
              "       ['high'],\n",
              "       ['high'],\n",
              "       ['low'],\n",
              "       ['high'],\n",
              "       ['low'],\n",
              "       ['high'],\n",
              "       ['high'],\n",
              "       ['high'],\n",
              "       ['low'],\n",
              "       ['low'],\n",
              "       ['high'],\n",
              "       ['low'],\n",
              "       ['high'],\n",
              "       ['low'],\n",
              "       ['low'],\n",
              "       ['low'],\n",
              "       ['high'],\n",
              "       ['high'],\n",
              "       ['high'],\n",
              "       ['high'],\n",
              "       ['low'],\n",
              "       ['low'],\n",
              "       ['low'],\n",
              "       ['high'],\n",
              "       ['low'],\n",
              "       ['low'],\n",
              "       ['low'],\n",
              "       ['high'],\n",
              "       ['high'],\n",
              "       ['high'],\n",
              "       ['low'],\n",
              "       ['high'],\n",
              "       ['low'],\n",
              "       ['low'],\n",
              "       ['low'],\n",
              "       ['high'],\n",
              "       ['high'],\n",
              "       ['high'],\n",
              "       ['high'],\n",
              "       ['low'],\n",
              "       ['high'],\n",
              "       ['high'],\n",
              "       ['low'],\n",
              "       ['low'],\n",
              "       ['low'],\n",
              "       ['low'],\n",
              "       ['high'],\n",
              "       ['low'],\n",
              "       ['high'],\n",
              "       ['high'],\n",
              "       ['high'],\n",
              "       ['high'],\n",
              "       ['high'],\n",
              "       ['high'],\n",
              "       ['high'],\n",
              "       ['high'],\n",
              "       ['high'],\n",
              "       ['high'],\n",
              "       ['high'],\n",
              "       ['high'],\n",
              "       ['low'],\n",
              "       ['high'],\n",
              "       ['low'],\n",
              "       ['low'],\n",
              "       ['low'],\n",
              "       ['low'],\n",
              "       ['high'],\n",
              "       ['high'],\n",
              "       ['low'],\n",
              "       ['low'],\n",
              "       ['low'],\n",
              "       ['low'],\n",
              "       ['low'],\n",
              "       ['low'],\n",
              "       ['low'],\n",
              "       ['high'],\n",
              "       ['high'],\n",
              "       ['high'],\n",
              "       ['low'],\n",
              "       ['low'],\n",
              "       ['low'],\n",
              "       ['high'],\n",
              "       ['high'],\n",
              "       ['high'],\n",
              "       ['high'],\n",
              "       ['low'],\n",
              "       ['high'],\n",
              "       ['low'],\n",
              "       ['high'],\n",
              "       ['low'],\n",
              "       ['high'],\n",
              "       ['high'],\n",
              "       ['low'],\n",
              "       ['high'],\n",
              "       ['high'],\n",
              "       ['low'],\n",
              "       ['low'],\n",
              "       ['low'],\n",
              "       ['low'],\n",
              "       ['high'],\n",
              "       ['high'],\n",
              "       ['high'],\n",
              "       ['low'],\n",
              "       ['low'],\n",
              "       ['high'],\n",
              "       ['high'],\n",
              "       ['high'],\n",
              "       ['high'],\n",
              "       ['high'],\n",
              "       ['low'],\n",
              "       ['high'],\n",
              "       ['low'],\n",
              "       ['low'],\n",
              "       ['low'],\n",
              "       ['low'],\n",
              "       ['low'],\n",
              "       ['low'],\n",
              "       ['high'],\n",
              "       ['high'],\n",
              "       ['high'],\n",
              "       ['high'],\n",
              "       ['high'],\n",
              "       ['high'],\n",
              "       ['high'],\n",
              "       ['low'],\n",
              "       ['low'],\n",
              "       ['low'],\n",
              "       ['low'],\n",
              "       ['low'],\n",
              "       ['high'],\n",
              "       ['low'],\n",
              "       ['high'],\n",
              "       ['low'],\n",
              "       ['high'],\n",
              "       ['low'],\n",
              "       ['low'],\n",
              "       ['low'],\n",
              "       ['low'],\n",
              "       ['low'],\n",
              "       ['high'],\n",
              "       ['high'],\n",
              "       ['high'],\n",
              "       ['high'],\n",
              "       ['high'],\n",
              "       ['low'],\n",
              "       ['high'],\n",
              "       ['low'],\n",
              "       ['low'],\n",
              "       ['low'],\n",
              "       ['low'],\n",
              "       ['high'],\n",
              "       ['low'],\n",
              "       ['low'],\n",
              "       ['low'],\n",
              "       ['low'],\n",
              "       ['low'],\n",
              "       ['low'],\n",
              "       ['low'],\n",
              "       ['high'],\n",
              "       ['high'],\n",
              "       ['high'],\n",
              "       ['high'],\n",
              "       ['high'],\n",
              "       ['low'],\n",
              "       ['high'],\n",
              "       ['low'],\n",
              "       ['low'],\n",
              "       ['low'],\n",
              "       ['high'],\n",
              "       ['high'],\n",
              "       ['low'],\n",
              "       ['low'],\n",
              "       ['low'],\n",
              "       ['low'],\n",
              "       ['low'],\n",
              "       ['high'],\n",
              "       ['high'],\n",
              "       ['high'],\n",
              "       ['high'],\n",
              "       ['low'],\n",
              "       ['high'],\n",
              "       ['high'],\n",
              "       ['high'],\n",
              "       ['low'],\n",
              "       ['low'],\n",
              "       ['high'],\n",
              "       ['high'],\n",
              "       ['low'],\n",
              "       ['low'],\n",
              "       ['low'],\n",
              "       ['low'],\n",
              "       ['low'],\n",
              "       ['high'],\n",
              "       ['high'],\n",
              "       ['low'],\n",
              "       ['high'],\n",
              "       ['low'],\n",
              "       ['high'],\n",
              "       ['high'],\n",
              "       ['high'],\n",
              "       ['low'],\n",
              "       ['low'],\n",
              "       ['low'],\n",
              "       ['low'],\n",
              "       ['high'],\n",
              "       ['low'],\n",
              "       ['high'],\n",
              "       ['high'],\n",
              "       ['high'],\n",
              "       ['low'],\n",
              "       ['high'],\n",
              "       ['high'],\n",
              "       ['low'],\n",
              "       ['high'],\n",
              "       ['low'],\n",
              "       ['low'],\n",
              "       ['low'],\n",
              "       ['low'],\n",
              "       ['high'],\n",
              "       ['high'],\n",
              "       ['high'],\n",
              "       ['high'],\n",
              "       ['high'],\n",
              "       ['high'],\n",
              "       ['high'],\n",
              "       ['high'],\n",
              "       ['high'],\n",
              "       ['low'],\n",
              "       ['low'],\n",
              "       ['high'],\n",
              "       ['low'],\n",
              "       ['low'],\n",
              "       ['low'],\n",
              "       ['low'],\n",
              "       ['low'],\n",
              "       ['low'],\n",
              "       ['low'],\n",
              "       ['low'],\n",
              "       ['low'],\n",
              "       ['high'],\n",
              "       ['high'],\n",
              "       ['high'],\n",
              "       ['high'],\n",
              "       ['low'],\n",
              "       ['high'],\n",
              "       ['low'],\n",
              "       ['low'],\n",
              "       ['low'],\n",
              "       ['low'],\n",
              "       ['low'],\n",
              "       ['low'],\n",
              "       ['high'],\n",
              "       ['high'],\n",
              "       ['high'],\n",
              "       ['high'],\n",
              "       ['low'],\n",
              "       ['high'],\n",
              "       ['high'],\n",
              "       ['high'],\n",
              "       ['high'],\n",
              "       ['low'],\n",
              "       ['low'],\n",
              "       ['low'],\n",
              "       ['high'],\n",
              "       ['low'],\n",
              "       ['low'],\n",
              "       ['low'],\n",
              "       ['low'],\n",
              "       ['low'],\n",
              "       ['low'],\n",
              "       ['low'],\n",
              "       ['low'],\n",
              "       ['low'],\n",
              "       ['high'],\n",
              "       ['high'],\n",
              "       ['high'],\n",
              "       ['high'],\n",
              "       ['low'],\n",
              "       ['high'],\n",
              "       ['low'],\n",
              "       ['high'],\n",
              "       ['low'],\n",
              "       ['high'],\n",
              "       ['low'],\n",
              "       ['low'],\n",
              "       ['low'],\n",
              "       ['high'],\n",
              "       ['high'],\n",
              "       ['high'],\n",
              "       ['low'],\n",
              "       ['low'],\n",
              "       ['high'],\n",
              "       ['high'],\n",
              "       ['high'],\n",
              "       ['high'],\n",
              "       ['high'],\n",
              "       ['high'],\n",
              "       ['low'],\n",
              "       ['low'],\n",
              "       ['low'],\n",
              "       ['high'],\n",
              "       ['high'],\n",
              "       ['low'],\n",
              "       ['high'],\n",
              "       ['high'],\n",
              "       ['low'],\n",
              "       ['low'],\n",
              "       ['low'],\n",
              "       ['low'],\n",
              "       ['low'],\n",
              "       ['high'],\n",
              "       ['high'],\n",
              "       ['high'],\n",
              "       ['high'],\n",
              "       ['high'],\n",
              "       ['low'],\n",
              "       ['high'],\n",
              "       ['high'],\n",
              "       ['low'],\n",
              "       ['high'],\n",
              "       ['high'],\n",
              "       ['high'],\n",
              "       ['low'],\n",
              "       ['low'],\n",
              "       ['low'],\n",
              "       ['low'],\n",
              "       ['low'],\n",
              "       ['low'],\n",
              "       ['high'],\n",
              "       ['high'],\n",
              "       ['high'],\n",
              "       ['high'],\n",
              "       ['high'],\n",
              "       ['low'],\n",
              "       ['low'],\n",
              "       ['low'],\n",
              "       ['low'],\n",
              "       ['low'],\n",
              "       ['low'],\n",
              "       ['low'],\n",
              "       ['low'],\n",
              "       ['low'],\n",
              "       ['high'],\n",
              "       ['low'],\n",
              "       ['low'],\n",
              "       ['low'],\n",
              "       ['high'],\n",
              "       ['high'],\n",
              "       ['high'],\n",
              "       ['high'],\n",
              "       ['high'],\n",
              "       ['low'],\n",
              "       ['high'],\n",
              "       ['low'],\n",
              "       ['low'],\n",
              "       ['low'],\n",
              "       ['low'],\n",
              "       ['high'],\n",
              "       ['high'],\n",
              "       ['high'],\n",
              "       ['low'],\n",
              "       ['low'],\n",
              "       ['high'],\n",
              "       ['low'],\n",
              "       ['low'],\n",
              "       ['low'],\n",
              "       ['high'],\n",
              "       ['low'],\n",
              "       ['low'],\n",
              "       ['high'],\n",
              "       ['high'],\n",
              "       ['high'],\n",
              "       ['high'],\n",
              "       ['low'],\n",
              "       ['high'],\n",
              "       ['low'],\n",
              "       ['high'],\n",
              "       ['high'],\n",
              "       ['high'],\n",
              "       ['low'],\n",
              "       ['high'],\n",
              "       ['low'],\n",
              "       ['high'],\n",
              "       ['high'],\n",
              "       ['high'],\n",
              "       ['high'],\n",
              "       ['low'],\n",
              "       ['low'],\n",
              "       ['low'],\n",
              "       ['low'],\n",
              "       ['high'],\n",
              "       ['high'],\n",
              "       ['low'],\n",
              "       ['low'],\n",
              "       ['high'],\n",
              "       ['high'],\n",
              "       ['high'],\n",
              "       ['low'],\n",
              "       ['low'],\n",
              "       ['low'],\n",
              "       ['high'],\n",
              "       ['low'],\n",
              "       ['high'],\n",
              "       ['high'],\n",
              "       ['high'],\n",
              "       ['high'],\n",
              "       ['high'],\n",
              "       ['high'],\n",
              "       ['high'],\n",
              "       ['high'],\n",
              "       ['high'],\n",
              "       ['high'],\n",
              "       ['high'],\n",
              "       ['low'],\n",
              "       ['low'],\n",
              "       ['low'],\n",
              "       ['low'],\n",
              "       ['low'],\n",
              "       ['low'],\n",
              "       ['low'],\n",
              "       ['high'],\n",
              "       ['high'],\n",
              "       ['high'],\n",
              "       ['high'],\n",
              "       ['high'],\n",
              "       ['high'],\n",
              "       ['high'],\n",
              "       ['high'],\n",
              "       ['low'],\n",
              "       ['low'],\n",
              "       ['high'],\n",
              "       ['high'],\n",
              "       ['high'],\n",
              "       ['high'],\n",
              "       ['low'],\n",
              "       ['low'],\n",
              "       ['low'],\n",
              "       ['low'],\n",
              "       ['low'],\n",
              "       ['low'],\n",
              "       ['low'],\n",
              "       ['high'],\n",
              "       ['low'],\n",
              "       ['high'],\n",
              "       ['high'],\n",
              "       ['low'],\n",
              "       ['high'],\n",
              "       ['high'],\n",
              "       ['low'],\n",
              "       ['low'],\n",
              "       ['low'],\n",
              "       ['high'],\n",
              "       ['high'],\n",
              "       ['high'],\n",
              "       ['high'],\n",
              "       ['high'],\n",
              "       ['low'],\n",
              "       ['high'],\n",
              "       ['low'],\n",
              "       ['low'],\n",
              "       ['low'],\n",
              "       ['low'],\n",
              "       ['low'],\n",
              "       ['high'],\n",
              "       ['high'],\n",
              "       ['high'],\n",
              "       ['high'],\n",
              "       ['high'],\n",
              "       ['low'],\n",
              "       ['high'],\n",
              "       ['high'],\n",
              "       ['low'],\n",
              "       ['high'],\n",
              "       ['high'],\n",
              "       ['high'],\n",
              "       ['high'],\n",
              "       ['high'],\n",
              "       ['high'],\n",
              "       ['low'],\n",
              "       ['low'],\n",
              "       ['high'],\n",
              "       ['high'],\n",
              "       ['low'],\n",
              "       ['high']], dtype=object)"
            ]
          },
          "metadata": {},
          "execution_count": 9
        }
      ]
    },
    {
      "cell_type": "code",
      "source": [
        "a.shape"
      ],
      "metadata": {
        "colab": {
          "base_uri": "https://localhost:8080/"
        },
        "id": "OozBqnKERlwp",
        "outputId": "a08571d8-4f0b-43b0-c3db-fea55fd05262"
      },
      "execution_count": null,
      "outputs": [
        {
          "output_type": "execute_result",
          "data": {
            "text/plain": [
              "(571, 3)"
            ]
          },
          "metadata": {},
          "execution_count": 10
        }
      ]
    },
    {
      "cell_type": "code",
      "source": [
        "from sklearn.preprocessing import LabelEncoder\n",
        "lb=LabelEncoder()\n",
        "b=lb.fit_transform(b)"
      ],
      "metadata": {
        "colab": {
          "base_uri": "https://localhost:8080/"
        },
        "id": "URItyXk-XZba",
        "outputId": "15857b8c-19e3-4bba-9bd0-1c126bc189d8"
      },
      "execution_count": null,
      "outputs": [
        {
          "output_type": "stream",
          "name": "stderr",
          "text": [
            "/usr/local/lib/python3.7/dist-packages/sklearn/preprocessing/_label.py:115: DataConversionWarning: A column-vector y was passed when a 1d array was expected. Please change the shape of y to (n_samples, ), for example using ravel().\n",
            "  y = column_or_1d(y, warn=True)\n"
          ]
        }
      ]
    },
    {
      "cell_type": "code",
      "source": [
        "b.shape"
      ],
      "metadata": {
        "colab": {
          "base_uri": "https://localhost:8080/"
        },
        "id": "xN9D6-HtUHmr",
        "outputId": "94902aae-5870-470b-dbf3-0e108fe3d188"
      },
      "execution_count": null,
      "outputs": [
        {
          "output_type": "execute_result",
          "data": {
            "text/plain": [
              "(571,)"
            ]
          },
          "metadata": {},
          "execution_count": 12
        }
      ]
    },
    {
      "cell_type": "code",
      "source": [
        "from sklearn.model_selection import train_test_split\n",
        "a_train,a_test,b_train,b_test=train_test_split(a,b,test_size=0.2,random_state=2) #test_size=0.2 is 20% testing data"
      ],
      "metadata": {
        "id": "coI70LBXUIr8"
      },
      "execution_count": null,
      "outputs": []
    },
    {
      "cell_type": "code",
      "source": [
        "a_test"
      ],
      "metadata": {
        "colab": {
          "base_uri": "https://localhost:8080/"
        },
        "id": "FB8f6k8sULhI",
        "outputId": "aaad0cfb-4142-4f40-fddf-f42c172a5fef"
      },
      "execution_count": null,
      "outputs": [
        {
          "output_type": "execute_result",
          "data": {
            "text/plain": [
              "array([[ 0.37,  0.51, 11.8 ],\n",
              "       [ 0.32,  0.45, 10.9 ],\n",
              "       [ 0.39,  0.77, 12.2 ],\n",
              "       [ 0.03,  0.62,  9.6 ],\n",
              "       [ 0.44,  0.34, 11.2 ],\n",
              "       [ 0.29,  0.64, 10.6 ],\n",
              "       [ 0.38,  0.82, 10.  ],\n",
              "       [ 0.49,  0.36, 11.  ],\n",
              "       [ 0.05,  0.52, 10.  ],\n",
              "       [ 0.22,  0.87, 11.9 ],\n",
              "       [ 0.49,  0.53, 10.2 ],\n",
              "       [ 0.32,  0.65,  9.6 ],\n",
              "       [ 0.1 ,  0.69, 10.7 ],\n",
              "       [ 0.58,  0.88, 10.3 ],\n",
              "       [ 0.26,  0.44,  9.3 ],\n",
              "       [ 0.  ,  0.37, 10.1 ],\n",
              "       [ 0.  ,  0.34,  9.4 ],\n",
              "       [ 0.27,  0.59, 12.5 ],\n",
              "       [ 0.03,  0.5 , 10.8 ],\n",
              "       [ 0.  ,  0.47,  9.4 ],\n",
              "       [ 0.02,  0.63,  9.95],\n",
              "       [ 0.46,  0.85, 10.9 ],\n",
              "       [ 0.47,  0.34, 10.6 ],\n",
              "       [ 0.36,  0.38, 10.9 ],\n",
              "       [ 0.36,  0.32, 12.3 ],\n",
              "       [ 0.36,  0.4 , 12.3 ],\n",
              "       [ 0.63,  0.78, 12.5 ],\n",
              "       [ 0.16,  0.36, 12.  ],\n",
              "       [ 0.66,  0.57,  8.3 ],\n",
              "       [ 0.42,  0.65, 11.3 ],\n",
              "       [ 0.25,  0.44, 10.4 ],\n",
              "       [ 0.14,  0.34,  9.5 ],\n",
              "       [ 0.29,  0.5 , 11.  ],\n",
              "       [ 0.45,  0.59, 10.7 ],\n",
              "       [ 0.27,  0.48,  9.8 ],\n",
              "       [ 0.12,  0.71, 11.2 ],\n",
              "       [ 0.29,  0.38, 10.2 ],\n",
              "       [ 0.3 ,  0.67,  9.1 ],\n",
              "       [ 0.66,  0.74, 10.9 ],\n",
              "       [ 0.14,  0.36,  9.6 ],\n",
              "       [ 0.18,  0.87, 12.3 ],\n",
              "       [ 0.88,  0.51,  9.9 ],\n",
              "       [ 0.16,  0.47, 12.7 ],\n",
              "       [ 0.02,  0.71, 11.  ],\n",
              "       [ 0.32,  0.71, 12.3 ],\n",
              "       [ 0.32,  0.33, 11.9 ],\n",
              "       [ 0.04,  0.33, 12.3 ],\n",
              "       [ 0.39,  0.71, 11.1 ],\n",
              "       [ 0.  ,  0.55, 11.3 ],\n",
              "       [ 0.31,  0.39, 12.3 ],\n",
              "       [ 0.31,  0.76, 11.3 ],\n",
              "       [ 0.37,  0.39, 11.7 ],\n",
              "       [ 0.31,  0.58, 11.3 ],\n",
              "       [ 0.36,  0.57, 10.6 ],\n",
              "       [ 0.39,  0.82, 10.4 ],\n",
              "       [ 0.39,  0.28, 10.4 ],\n",
              "       [ 0.02,  0.35,  9.9 ],\n",
              "       [ 0.2 ,  0.54,  9.3 ],\n",
              "       [ 0.44,  0.84,  8.6 ],\n",
              "       [ 0.33,  0.84, 11.6 ],\n",
              "       [ 0.46,  0.49, 10.4 ],\n",
              "       [ 0.03,  0.56, 11.6 ],\n",
              "       [ 0.26,  0.37,  9.9 ],\n",
              "       [ 0.  ,  0.49,  9.  ],\n",
              "       [ 0.32,  0.73, 11.  ],\n",
              "       [ 0.68,  1.08,  9.6 ],\n",
              "       [ 0.3 ,  0.46,  8.9 ],\n",
              "       [ 0.24,  0.32,  9.3 ],\n",
              "       [ 0.32,  0.33, 12.2 ],\n",
              "       [ 0.19,  0.64,  9.9 ],\n",
              "       [ 0.53,  1.13, 12.  ],\n",
              "       [ 0.44,  0.57,  9.4 ],\n",
              "       [ 0.28,  0.64, 10.7 ],\n",
              "       [ 0.54,  0.76,  9.8 ],\n",
              "       [ 0.49,  0.34, 10.5 ],\n",
              "       [ 0.35,  0.57,  9.3 ],\n",
              "       [ 0.66,  0.73,  9.3 ],\n",
              "       [ 0.52,  0.72,  9.7 ],\n",
              "       [ 0.42,  1.05, 10.4 ],\n",
              "       [ 0.23,  0.55, 11.7 ],\n",
              "       [ 0.45,  0.55, 11.7 ],\n",
              "       [ 0.22,  0.64, 11.2 ],\n",
              "       [ 0.27,  0.41,  9.  ],\n",
              "       [ 0.6 ,  0.59, 10.4 ],\n",
              "       [ 0.2 ,  0.28, 11.6 ],\n",
              "       [ 0.32,  0.65, 10.  ],\n",
              "       [ 0.34,  0.86, 10.2 ],\n",
              "       [ 0.5 ,  0.6 ,  9.8 ],\n",
              "       [ 0.31,  0.55, 11.4 ],\n",
              "       [ 0.07,  0.68, 10.6 ],\n",
              "       [ 0.36,  1.01, 12.  ],\n",
              "       [ 0.22,  0.86, 12.1 ],\n",
              "       [ 0.35,  0.63, 11.4 ],\n",
              "       [ 0.75,  0.68, 11.4 ],\n",
              "       [ 0.54,  0.57, 10.2 ],\n",
              "       [ 0.54,  0.49,  8.9 ],\n",
              "       [ 0.02,  0.89, 12.1 ],\n",
              "       [ 0.39,  0.57, 11.3 ],\n",
              "       [ 0.31,  0.34, 12.2 ],\n",
              "       [ 0.22,  0.31, 11.2 ],\n",
              "       [ 0.32,  0.77, 10.  ],\n",
              "       [ 0.03,  0.33,  8.8 ],\n",
              "       [ 0.37,  0.8 , 12.1 ],\n",
              "       [ 0.35,  0.74, 11.4 ],\n",
              "       [ 0.49,  0.52, 12.1 ],\n",
              "       [ 0.  ,  0.94, 12.5 ],\n",
              "       [ 0.24,  0.53,  9.7 ],\n",
              "       [ 0.31,  0.44, 12.5 ],\n",
              "       [ 0.24,  0.58, 11.  ],\n",
              "       [ 0.27,  0.4 , 12.  ],\n",
              "       [ 0.39,  0.43, 12.5 ],\n",
              "       [ 0.2 ,  1.12,  8.9 ],\n",
              "       [ 0.49,  0.53,  9.1 ],\n",
              "       [ 0.45,  0.46, 10.5 ],\n",
              "       [ 0.34,  0.32, 12.7 ]])"
            ]
          },
          "metadata": {},
          "execution_count": 14
        }
      ]
    },
    {
      "cell_type": "code",
      "source": [
        "a_test.shape"
      ],
      "metadata": {
        "colab": {
          "base_uri": "https://localhost:8080/"
        },
        "id": "cvTy2TjcUO_0",
        "outputId": "191b1633-1a86-4b95-bd51-0ac0457f59a8"
      },
      "execution_count": null,
      "outputs": [
        {
          "output_type": "execute_result",
          "data": {
            "text/plain": [
              "(115, 3)"
            ]
          },
          "metadata": {},
          "execution_count": 15
        }
      ]
    },
    {
      "cell_type": "code",
      "source": [
        "a_train.shape"
      ],
      "metadata": {
        "colab": {
          "base_uri": "https://localhost:8080/"
        },
        "id": "aloYsCyJUUCp",
        "outputId": "98efa217-b8a5-409a-e8b5-775b696b94a4"
      },
      "execution_count": null,
      "outputs": [
        {
          "output_type": "execute_result",
          "data": {
            "text/plain": [
              "(456, 3)"
            ]
          },
          "metadata": {},
          "execution_count": 16
        }
      ]
    },
    {
      "cell_type": "code",
      "source": [
        "from sklearn.linear_model import LogisticRegression\n",
        "logreg=LogisticRegression()\n",
        "logreg.fit(a_train,b_train)\n"
      ],
      "metadata": {
        "colab": {
          "base_uri": "https://localhost:8080/"
        },
        "id": "-EMf0iklUWfo",
        "outputId": "6d76eb27-cd85-44bf-b577-a595254506e3"
      },
      "execution_count": null,
      "outputs": [
        {
          "output_type": "execute_result",
          "data": {
            "text/plain": [
              "LogisticRegression()"
            ]
          },
          "metadata": {},
          "execution_count": 17
        }
      ]
    },
    {
      "cell_type": "code",
      "source": [
        "bpred=logreg.predict(a_test)"
      ],
      "metadata": {
        "id": "d_ZNdA_VUZ9q"
      },
      "execution_count": null,
      "outputs": []
    },
    {
      "cell_type": "code",
      "source": [
        "bpred"
      ],
      "metadata": {
        "colab": {
          "base_uri": "https://localhost:8080/"
        },
        "id": "3YjQmy0ZUcol",
        "outputId": "5553b688-0deb-4a36-cea6-11aa71002947"
      },
      "execution_count": null,
      "outputs": [
        {
          "output_type": "execute_result",
          "data": {
            "text/plain": [
              "array([0, 0, 1, 1, 0, 1, 1, 0, 0, 1, 0, 1, 1, 1, 0, 0, 0, 0, 0, 0, 1, 1,\n",
              "       0, 0, 0, 0, 1, 0, 0, 1, 0, 0, 0, 0, 0, 1, 0, 1, 1, 0, 1, 0, 0, 1,\n",
              "       1, 0, 0, 1, 0, 0, 1, 0, 0, 0, 1, 0, 0, 0, 1, 1, 0, 0, 0, 0, 1, 1,\n",
              "       0, 0, 0, 1, 1, 0, 1, 1, 0, 0, 1, 1, 1, 0, 0, 1, 0, 0, 0, 1, 1, 0,\n",
              "       0, 1, 1, 1, 1, 1, 0, 0, 1, 0, 0, 0, 1, 0, 1, 1, 0, 1, 0, 0, 0, 0,\n",
              "       0, 1, 0, 0, 0])"
            ]
          },
          "metadata": {},
          "execution_count": 19
        }
      ]
    },
    {
      "cell_type": "code",
      "source": [
        "b_test"
      ],
      "metadata": {
        "colab": {
          "base_uri": "https://localhost:8080/"
        },
        "id": "iX1d5OI8UfQO",
        "outputId": "562da77f-b2f8-48bf-b31d-13f023c1945a"
      },
      "execution_count": null,
      "outputs": [
        {
          "output_type": "execute_result",
          "data": {
            "text/plain": [
              "array([0, 0, 1, 1, 0, 0, 1, 0, 1, 0, 0, 1, 1, 1, 0, 1, 0, 0, 1, 1, 1, 1,\n",
              "       0, 0, 0, 0, 1, 0, 1, 0, 0, 0, 0, 0, 1, 1, 0, 0, 1, 0, 1, 0, 0, 1,\n",
              "       0, 0, 0, 1, 1, 0, 1, 0, 0, 0, 1, 0, 0, 0, 1, 1, 0, 1, 0, 1, 1, 1,\n",
              "       0, 0, 0, 0, 1, 0, 0, 1, 0, 0, 1, 1, 1, 0, 1, 1, 0, 0, 0, 1, 1, 1,\n",
              "       0, 1, 1, 0, 0, 1, 1, 0, 1, 1, 0, 0, 1, 1, 1, 1, 1, 1, 0, 0, 1, 0,\n",
              "       0, 1, 0, 0, 0])"
            ]
          },
          "metadata": {},
          "execution_count": 20
        }
      ]
    },
    {
      "cell_type": "code",
      "source": [
        "a_test"
      ],
      "metadata": {
        "colab": {
          "base_uri": "https://localhost:8080/"
        },
        "id": "Vvb8q0_4Uk2a",
        "outputId": "067a9be8-fb23-4c7f-cb7c-2050ad6f8c0e"
      },
      "execution_count": null,
      "outputs": [
        {
          "output_type": "execute_result",
          "data": {
            "text/plain": [
              "array([[ 0.37,  0.51, 11.8 ],\n",
              "       [ 0.32,  0.45, 10.9 ],\n",
              "       [ 0.39,  0.77, 12.2 ],\n",
              "       [ 0.03,  0.62,  9.6 ],\n",
              "       [ 0.44,  0.34, 11.2 ],\n",
              "       [ 0.29,  0.64, 10.6 ],\n",
              "       [ 0.38,  0.82, 10.  ],\n",
              "       [ 0.49,  0.36, 11.  ],\n",
              "       [ 0.05,  0.52, 10.  ],\n",
              "       [ 0.22,  0.87, 11.9 ],\n",
              "       [ 0.49,  0.53, 10.2 ],\n",
              "       [ 0.32,  0.65,  9.6 ],\n",
              "       [ 0.1 ,  0.69, 10.7 ],\n",
              "       [ 0.58,  0.88, 10.3 ],\n",
              "       [ 0.26,  0.44,  9.3 ],\n",
              "       [ 0.  ,  0.37, 10.1 ],\n",
              "       [ 0.  ,  0.34,  9.4 ],\n",
              "       [ 0.27,  0.59, 12.5 ],\n",
              "       [ 0.03,  0.5 , 10.8 ],\n",
              "       [ 0.  ,  0.47,  9.4 ],\n",
              "       [ 0.02,  0.63,  9.95],\n",
              "       [ 0.46,  0.85, 10.9 ],\n",
              "       [ 0.47,  0.34, 10.6 ],\n",
              "       [ 0.36,  0.38, 10.9 ],\n",
              "       [ 0.36,  0.32, 12.3 ],\n",
              "       [ 0.36,  0.4 , 12.3 ],\n",
              "       [ 0.63,  0.78, 12.5 ],\n",
              "       [ 0.16,  0.36, 12.  ],\n",
              "       [ 0.66,  0.57,  8.3 ],\n",
              "       [ 0.42,  0.65, 11.3 ],\n",
              "       [ 0.25,  0.44, 10.4 ],\n",
              "       [ 0.14,  0.34,  9.5 ],\n",
              "       [ 0.29,  0.5 , 11.  ],\n",
              "       [ 0.45,  0.59, 10.7 ],\n",
              "       [ 0.27,  0.48,  9.8 ],\n",
              "       [ 0.12,  0.71, 11.2 ],\n",
              "       [ 0.29,  0.38, 10.2 ],\n",
              "       [ 0.3 ,  0.67,  9.1 ],\n",
              "       [ 0.66,  0.74, 10.9 ],\n",
              "       [ 0.14,  0.36,  9.6 ],\n",
              "       [ 0.18,  0.87, 12.3 ],\n",
              "       [ 0.88,  0.51,  9.9 ],\n",
              "       [ 0.16,  0.47, 12.7 ],\n",
              "       [ 0.02,  0.71, 11.  ],\n",
              "       [ 0.32,  0.71, 12.3 ],\n",
              "       [ 0.32,  0.33, 11.9 ],\n",
              "       [ 0.04,  0.33, 12.3 ],\n",
              "       [ 0.39,  0.71, 11.1 ],\n",
              "       [ 0.  ,  0.55, 11.3 ],\n",
              "       [ 0.31,  0.39, 12.3 ],\n",
              "       [ 0.31,  0.76, 11.3 ],\n",
              "       [ 0.37,  0.39, 11.7 ],\n",
              "       [ 0.31,  0.58, 11.3 ],\n",
              "       [ 0.36,  0.57, 10.6 ],\n",
              "       [ 0.39,  0.82, 10.4 ],\n",
              "       [ 0.39,  0.28, 10.4 ],\n",
              "       [ 0.02,  0.35,  9.9 ],\n",
              "       [ 0.2 ,  0.54,  9.3 ],\n",
              "       [ 0.44,  0.84,  8.6 ],\n",
              "       [ 0.33,  0.84, 11.6 ],\n",
              "       [ 0.46,  0.49, 10.4 ],\n",
              "       [ 0.03,  0.56, 11.6 ],\n",
              "       [ 0.26,  0.37,  9.9 ],\n",
              "       [ 0.  ,  0.49,  9.  ],\n",
              "       [ 0.32,  0.73, 11.  ],\n",
              "       [ 0.68,  1.08,  9.6 ],\n",
              "       [ 0.3 ,  0.46,  8.9 ],\n",
              "       [ 0.24,  0.32,  9.3 ],\n",
              "       [ 0.32,  0.33, 12.2 ],\n",
              "       [ 0.19,  0.64,  9.9 ],\n",
              "       [ 0.53,  1.13, 12.  ],\n",
              "       [ 0.44,  0.57,  9.4 ],\n",
              "       [ 0.28,  0.64, 10.7 ],\n",
              "       [ 0.54,  0.76,  9.8 ],\n",
              "       [ 0.49,  0.34, 10.5 ],\n",
              "       [ 0.35,  0.57,  9.3 ],\n",
              "       [ 0.66,  0.73,  9.3 ],\n",
              "       [ 0.52,  0.72,  9.7 ],\n",
              "       [ 0.42,  1.05, 10.4 ],\n",
              "       [ 0.23,  0.55, 11.7 ],\n",
              "       [ 0.45,  0.55, 11.7 ],\n",
              "       [ 0.22,  0.64, 11.2 ],\n",
              "       [ 0.27,  0.41,  9.  ],\n",
              "       [ 0.6 ,  0.59, 10.4 ],\n",
              "       [ 0.2 ,  0.28, 11.6 ],\n",
              "       [ 0.32,  0.65, 10.  ],\n",
              "       [ 0.34,  0.86, 10.2 ],\n",
              "       [ 0.5 ,  0.6 ,  9.8 ],\n",
              "       [ 0.31,  0.55, 11.4 ],\n",
              "       [ 0.07,  0.68, 10.6 ],\n",
              "       [ 0.36,  1.01, 12.  ],\n",
              "       [ 0.22,  0.86, 12.1 ],\n",
              "       [ 0.35,  0.63, 11.4 ],\n",
              "       [ 0.75,  0.68, 11.4 ],\n",
              "       [ 0.54,  0.57, 10.2 ],\n",
              "       [ 0.54,  0.49,  8.9 ],\n",
              "       [ 0.02,  0.89, 12.1 ],\n",
              "       [ 0.39,  0.57, 11.3 ],\n",
              "       [ 0.31,  0.34, 12.2 ],\n",
              "       [ 0.22,  0.31, 11.2 ],\n",
              "       [ 0.32,  0.77, 10.  ],\n",
              "       [ 0.03,  0.33,  8.8 ],\n",
              "       [ 0.37,  0.8 , 12.1 ],\n",
              "       [ 0.35,  0.74, 11.4 ],\n",
              "       [ 0.49,  0.52, 12.1 ],\n",
              "       [ 0.  ,  0.94, 12.5 ],\n",
              "       [ 0.24,  0.53,  9.7 ],\n",
              "       [ 0.31,  0.44, 12.5 ],\n",
              "       [ 0.24,  0.58, 11.  ],\n",
              "       [ 0.27,  0.4 , 12.  ],\n",
              "       [ 0.39,  0.43, 12.5 ],\n",
              "       [ 0.2 ,  1.12,  8.9 ],\n",
              "       [ 0.49,  0.53,  9.1 ],\n",
              "       [ 0.45,  0.46, 10.5 ],\n",
              "       [ 0.34,  0.32, 12.7 ]])"
            ]
          },
          "metadata": {},
          "execution_count": 21
        }
      ]
    },
    {
      "cell_type": "code",
      "source": [
        "from sklearn.metrics import accuracy_score\n",
        "accuracy=accuracy_score(bpred,b_test)"
      ],
      "metadata": {
        "id": "kPstxOewUnoC"
      },
      "execution_count": null,
      "outputs": []
    },
    {
      "cell_type": "code",
      "source": [
        "ds.head()"
      ],
      "metadata": {
        "colab": {
          "base_uri": "https://localhost:8080/",
          "height": 206
        },
        "id": "MD1gFm1eUs-i",
        "outputId": "2e50ca02-9a88-447e-9ca4-b38aea1026a6"
      },
      "execution_count": null,
      "outputs": [
        {
          "output_type": "execute_result",
          "data": {
            "text/plain": [
              "   citric acid  sulphates  alcohol  type\n",
              "0         0.49       0.63      8.0   low\n",
              "1         0.66       0.57      8.3   low\n",
              "2         0.23       0.44      8.5  high\n",
              "3         0.44       0.84      8.6   low\n",
              "4         0.08       0.50      8.7   low"
            ],
            "text/html": [
              "\n",
              "  <div id=\"df-cc9682eb-a797-4437-8ac4-f5a075c09794\">\n",
              "    <div class=\"colab-df-container\">\n",
              "      <div>\n",
              "<style scoped>\n",
              "    .dataframe tbody tr th:only-of-type {\n",
              "        vertical-align: middle;\n",
              "    }\n",
              "\n",
              "    .dataframe tbody tr th {\n",
              "        vertical-align: top;\n",
              "    }\n",
              "\n",
              "    .dataframe thead th {\n",
              "        text-align: right;\n",
              "    }\n",
              "</style>\n",
              "<table border=\"1\" class=\"dataframe\">\n",
              "  <thead>\n",
              "    <tr style=\"text-align: right;\">\n",
              "      <th></th>\n",
              "      <th>citric acid</th>\n",
              "      <th>sulphates</th>\n",
              "      <th>alcohol</th>\n",
              "      <th>type</th>\n",
              "    </tr>\n",
              "  </thead>\n",
              "  <tbody>\n",
              "    <tr>\n",
              "      <th>0</th>\n",
              "      <td>0.49</td>\n",
              "      <td>0.63</td>\n",
              "      <td>8.0</td>\n",
              "      <td>low</td>\n",
              "    </tr>\n",
              "    <tr>\n",
              "      <th>1</th>\n",
              "      <td>0.66</td>\n",
              "      <td>0.57</td>\n",
              "      <td>8.3</td>\n",
              "      <td>low</td>\n",
              "    </tr>\n",
              "    <tr>\n",
              "      <th>2</th>\n",
              "      <td>0.23</td>\n",
              "      <td>0.44</td>\n",
              "      <td>8.5</td>\n",
              "      <td>high</td>\n",
              "    </tr>\n",
              "    <tr>\n",
              "      <th>3</th>\n",
              "      <td>0.44</td>\n",
              "      <td>0.84</td>\n",
              "      <td>8.6</td>\n",
              "      <td>low</td>\n",
              "    </tr>\n",
              "    <tr>\n",
              "      <th>4</th>\n",
              "      <td>0.08</td>\n",
              "      <td>0.50</td>\n",
              "      <td>8.7</td>\n",
              "      <td>low</td>\n",
              "    </tr>\n",
              "  </tbody>\n",
              "</table>\n",
              "</div>\n",
              "      <button class=\"colab-df-convert\" onclick=\"convertToInteractive('df-cc9682eb-a797-4437-8ac4-f5a075c09794')\"\n",
              "              title=\"Convert this dataframe to an interactive table.\"\n",
              "              style=\"display:none;\">\n",
              "        \n",
              "  <svg xmlns=\"http://www.w3.org/2000/svg\" height=\"24px\"viewBox=\"0 0 24 24\"\n",
              "       width=\"24px\">\n",
              "    <path d=\"M0 0h24v24H0V0z\" fill=\"none\"/>\n",
              "    <path d=\"M18.56 5.44l.94 2.06.94-2.06 2.06-.94-2.06-.94-.94-2.06-.94 2.06-2.06.94zm-11 1L8.5 8.5l.94-2.06 2.06-.94-2.06-.94L8.5 2.5l-.94 2.06-2.06.94zm10 10l.94 2.06.94-2.06 2.06-.94-2.06-.94-.94-2.06-.94 2.06-2.06.94z\"/><path d=\"M17.41 7.96l-1.37-1.37c-.4-.4-.92-.59-1.43-.59-.52 0-1.04.2-1.43.59L10.3 9.45l-7.72 7.72c-.78.78-.78 2.05 0 2.83L4 21.41c.39.39.9.59 1.41.59.51 0 1.02-.2 1.41-.59l7.78-7.78 2.81-2.81c.8-.78.8-2.07 0-2.86zM5.41 20L4 18.59l7.72-7.72 1.47 1.35L5.41 20z\"/>\n",
              "  </svg>\n",
              "      </button>\n",
              "      \n",
              "  <style>\n",
              "    .colab-df-container {\n",
              "      display:flex;\n",
              "      flex-wrap:wrap;\n",
              "      gap: 12px;\n",
              "    }\n",
              "\n",
              "    .colab-df-convert {\n",
              "      background-color: #E8F0FE;\n",
              "      border: none;\n",
              "      border-radius: 50%;\n",
              "      cursor: pointer;\n",
              "      display: none;\n",
              "      fill: #1967D2;\n",
              "      height: 32px;\n",
              "      padding: 0 0 0 0;\n",
              "      width: 32px;\n",
              "    }\n",
              "\n",
              "    .colab-df-convert:hover {\n",
              "      background-color: #E2EBFA;\n",
              "      box-shadow: 0px 1px 2px rgba(60, 64, 67, 0.3), 0px 1px 3px 1px rgba(60, 64, 67, 0.15);\n",
              "      fill: #174EA6;\n",
              "    }\n",
              "\n",
              "    [theme=dark] .colab-df-convert {\n",
              "      background-color: #3B4455;\n",
              "      fill: #D2E3FC;\n",
              "    }\n",
              "\n",
              "    [theme=dark] .colab-df-convert:hover {\n",
              "      background-color: #434B5C;\n",
              "      box-shadow: 0px 1px 3px 1px rgba(0, 0, 0, 0.15);\n",
              "      filter: drop-shadow(0px 1px 2px rgba(0, 0, 0, 0.3));\n",
              "      fill: #FFFFFF;\n",
              "    }\n",
              "  </style>\n",
              "\n",
              "      <script>\n",
              "        const buttonEl =\n",
              "          document.querySelector('#df-cc9682eb-a797-4437-8ac4-f5a075c09794 button.colab-df-convert');\n",
              "        buttonEl.style.display =\n",
              "          google.colab.kernel.accessAllowed ? 'block' : 'none';\n",
              "\n",
              "        async function convertToInteractive(key) {\n",
              "          const element = document.querySelector('#df-cc9682eb-a797-4437-8ac4-f5a075c09794');\n",
              "          const dataTable =\n",
              "            await google.colab.kernel.invokeFunction('convertToInteractive',\n",
              "                                                     [key], {});\n",
              "          if (!dataTable) return;\n",
              "\n",
              "          const docLinkHtml = 'Like what you see? Visit the ' +\n",
              "            '<a target=\"_blank\" href=https://colab.research.google.com/notebooks/data_table.ipynb>data table notebook</a>'\n",
              "            + ' to learn more about interactive tables.';\n",
              "          element.innerHTML = '';\n",
              "          dataTable['output_type'] = 'display_data';\n",
              "          await google.colab.output.renderOutput(dataTable, element);\n",
              "          const docLink = document.createElement('div');\n",
              "          docLink.innerHTML = docLinkHtml;\n",
              "          element.appendChild(docLink);\n",
              "        }\n",
              "      </script>\n",
              "    </div>\n",
              "  </div>\n",
              "  "
            ]
          },
          "metadata": {},
          "execution_count": 23
        }
      ]
    },
    {
      "cell_type": "code",
      "source": [
        "logreg.predict([[0.49,0.63,8.0]])"
      ],
      "metadata": {
        "colab": {
          "base_uri": "https://localhost:8080/"
        },
        "id": "VlG21YjUUw04",
        "outputId": "dc1d640d-52ca-415f-9a7c-56031229aba5"
      },
      "execution_count": null,
      "outputs": [
        {
          "output_type": "execute_result",
          "data": {
            "text/plain": [
              "array([1])"
            ]
          },
          "metadata": {},
          "execution_count": 24
        }
      ]
    },
    {
      "cell_type": "code",
      "source": [
        "logreg.predict([[0.63,0.57,8.3]])"
      ],
      "metadata": {
        "colab": {
          "base_uri": "https://localhost:8080/"
        },
        "id": "7pXMVyIjVBHu",
        "outputId": "5173b345-4af8-4e2e-f099-0c4fb4213315"
      },
      "execution_count": null,
      "outputs": [
        {
          "output_type": "execute_result",
          "data": {
            "text/plain": [
              "array([0])"
            ]
          },
          "metadata": {},
          "execution_count": 25
        }
      ]
    },
    {
      "cell_type": "code",
      "source": [
        "from sklearn.tree import DecisionTreeClassifier\n",
        "dt=DecisionTreeClassifier(criterion=\"entropy\",random_state=0)\n",
        "dt.fit(a_train,b_train)"
      ],
      "metadata": {
        "colab": {
          "base_uri": "https://localhost:8080/"
        },
        "id": "Aqe5MIlEVNBG",
        "outputId": "eeca68a9-129c-4971-946c-1451688a5c01"
      },
      "execution_count": null,
      "outputs": [
        {
          "output_type": "execute_result",
          "data": {
            "text/plain": [
              "DecisionTreeClassifier(criterion='entropy', random_state=0)"
            ]
          },
          "metadata": {},
          "execution_count": 26
        }
      ]
    },
    {
      "cell_type": "code",
      "source": [
        "dtpred=dt.predict(a_test)"
      ],
      "metadata": {
        "id": "V-IGFcRhV9yI"
      },
      "execution_count": null,
      "outputs": []
    },
    {
      "cell_type": "code",
      "source": [
        "dtpred"
      ],
      "metadata": {
        "colab": {
          "base_uri": "https://localhost:8080/"
        },
        "id": "Bpnaew-dWAHa",
        "outputId": "04e8d3f2-d06b-4db9-fa4b-89c17c4afbb4"
      },
      "execution_count": null,
      "outputs": [
        {
          "output_type": "execute_result",
          "data": {
            "text/plain": [
              "array([0, 0, 1, 1, 0, 0, 1, 0, 1, 1, 0, 1, 1, 1, 0, 0, 0, 0, 1, 0, 1, 1,\n",
              "       0, 0, 0, 0, 1, 0, 0, 1, 0, 0, 0, 0, 0, 1, 0, 0, 1, 0, 1, 0, 0, 1,\n",
              "       0, 0, 0, 1, 1, 1, 1, 0, 0, 1, 1, 0, 0, 1, 1, 1, 0, 1, 0, 1, 1, 1,\n",
              "       0, 0, 0, 0, 1, 1, 0, 1, 0, 1, 1, 1, 1, 0, 1, 0, 0, 0, 0, 1, 1, 0,\n",
              "       0, 1, 0, 0, 0, 1, 0, 0, 1, 1, 0, 0, 0, 0, 0, 1, 1, 1, 1, 0, 0, 0,\n",
              "       0, 1, 0, 0, 0])"
            ]
          },
          "metadata": {},
          "execution_count": 28
        }
      ]
    },
    {
      "cell_type": "code",
      "source": [
        "b_test"
      ],
      "metadata": {
        "colab": {
          "base_uri": "https://localhost:8080/"
        },
        "id": "fEIlAvp8WCUm",
        "outputId": "13b11d1c-9c3a-4f49-c8af-cca3cfbb280a"
      },
      "execution_count": null,
      "outputs": [
        {
          "output_type": "execute_result",
          "data": {
            "text/plain": [
              "array([0, 0, 1, 1, 0, 0, 1, 0, 1, 0, 0, 1, 1, 1, 0, 1, 0, 0, 1, 1, 1, 1,\n",
              "       0, 0, 0, 0, 1, 0, 1, 0, 0, 0, 0, 0, 1, 1, 0, 0, 1, 0, 1, 0, 0, 1,\n",
              "       0, 0, 0, 1, 1, 0, 1, 0, 0, 0, 1, 0, 0, 0, 1, 1, 0, 1, 0, 1, 1, 1,\n",
              "       0, 0, 0, 0, 1, 0, 0, 1, 0, 0, 1, 1, 1, 0, 1, 1, 0, 0, 0, 1, 1, 1,\n",
              "       0, 1, 1, 0, 0, 1, 1, 0, 1, 1, 0, 0, 1, 1, 1, 1, 1, 1, 0, 0, 1, 0,\n",
              "       0, 1, 0, 0, 0])"
            ]
          },
          "metadata": {},
          "execution_count": 29
        }
      ]
    },
    {
      "cell_type": "code",
      "source": [
        "from sklearn.metrics import accuracy_score,confusion_matrix\n",
        "dta=accuracy_score(b_test,dtpred)\n",
        "dcm=confusion_matrix(b_test,dtpred)"
      ],
      "metadata": {
        "id": "M2vS1PrmWFU6"
      },
      "execution_count": null,
      "outputs": []
    },
    {
      "cell_type": "code",
      "source": [
        "dta"
      ],
      "metadata": {
        "colab": {
          "base_uri": "https://localhost:8080/"
        },
        "id": "54YyAqy5WJeS",
        "outputId": "d590075a-8c0b-46fd-d1f5-5e47d7becce4"
      },
      "execution_count": null,
      "outputs": [
        {
          "output_type": "execute_result",
          "data": {
            "text/plain": [
              "0.8260869565217391"
            ]
          },
          "metadata": {},
          "execution_count": 34
        }
      ]
    },
    {
      "cell_type": "code",
      "source": [
        "dcm"
      ],
      "metadata": {
        "colab": {
          "base_uri": "https://localhost:8080/"
        },
        "id": "JiPMBGPWWLit",
        "outputId": "c3a75402-e0d9-4f86-e350-4eab42a861e5"
      },
      "execution_count": null,
      "outputs": [
        {
          "output_type": "execute_result",
          "data": {
            "text/plain": [
              "array([[54,  8],\n",
              "       [12, 41]])"
            ]
          },
          "metadata": {},
          "execution_count": 36
        }
      ]
    },
    {
      "cell_type": "code",
      "source": [
        "ds.head()"
      ],
      "metadata": {
        "colab": {
          "base_uri": "https://localhost:8080/",
          "height": 206
        },
        "id": "t0IzQDJ-W13d",
        "outputId": "4851ec3f-5602-4087-9247-e7e9394245ca"
      },
      "execution_count": null,
      "outputs": [
        {
          "output_type": "execute_result",
          "data": {
            "text/plain": [
              "   citric acid  sulphates  alcohol  type\n",
              "0         0.49       0.63      8.0   low\n",
              "1         0.66       0.57      8.3   low\n",
              "2         0.23       0.44      8.5  high\n",
              "3         0.44       0.84      8.6   low\n",
              "4         0.08       0.50      8.7   low"
            ],
            "text/html": [
              "\n",
              "  <div id=\"df-61be5258-561c-499e-a7a9-170283915b4b\">\n",
              "    <div class=\"colab-df-container\">\n",
              "      <div>\n",
              "<style scoped>\n",
              "    .dataframe tbody tr th:only-of-type {\n",
              "        vertical-align: middle;\n",
              "    }\n",
              "\n",
              "    .dataframe tbody tr th {\n",
              "        vertical-align: top;\n",
              "    }\n",
              "\n",
              "    .dataframe thead th {\n",
              "        text-align: right;\n",
              "    }\n",
              "</style>\n",
              "<table border=\"1\" class=\"dataframe\">\n",
              "  <thead>\n",
              "    <tr style=\"text-align: right;\">\n",
              "      <th></th>\n",
              "      <th>citric acid</th>\n",
              "      <th>sulphates</th>\n",
              "      <th>alcohol</th>\n",
              "      <th>type</th>\n",
              "    </tr>\n",
              "  </thead>\n",
              "  <tbody>\n",
              "    <tr>\n",
              "      <th>0</th>\n",
              "      <td>0.49</td>\n",
              "      <td>0.63</td>\n",
              "      <td>8.0</td>\n",
              "      <td>low</td>\n",
              "    </tr>\n",
              "    <tr>\n",
              "      <th>1</th>\n",
              "      <td>0.66</td>\n",
              "      <td>0.57</td>\n",
              "      <td>8.3</td>\n",
              "      <td>low</td>\n",
              "    </tr>\n",
              "    <tr>\n",
              "      <th>2</th>\n",
              "      <td>0.23</td>\n",
              "      <td>0.44</td>\n",
              "      <td>8.5</td>\n",
              "      <td>high</td>\n",
              "    </tr>\n",
              "    <tr>\n",
              "      <th>3</th>\n",
              "      <td>0.44</td>\n",
              "      <td>0.84</td>\n",
              "      <td>8.6</td>\n",
              "      <td>low</td>\n",
              "    </tr>\n",
              "    <tr>\n",
              "      <th>4</th>\n",
              "      <td>0.08</td>\n",
              "      <td>0.50</td>\n",
              "      <td>8.7</td>\n",
              "      <td>low</td>\n",
              "    </tr>\n",
              "  </tbody>\n",
              "</table>\n",
              "</div>\n",
              "      <button class=\"colab-df-convert\" onclick=\"convertToInteractive('df-61be5258-561c-499e-a7a9-170283915b4b')\"\n",
              "              title=\"Convert this dataframe to an interactive table.\"\n",
              "              style=\"display:none;\">\n",
              "        \n",
              "  <svg xmlns=\"http://www.w3.org/2000/svg\" height=\"24px\"viewBox=\"0 0 24 24\"\n",
              "       width=\"24px\">\n",
              "    <path d=\"M0 0h24v24H0V0z\" fill=\"none\"/>\n",
              "    <path d=\"M18.56 5.44l.94 2.06.94-2.06 2.06-.94-2.06-.94-.94-2.06-.94 2.06-2.06.94zm-11 1L8.5 8.5l.94-2.06 2.06-.94-2.06-.94L8.5 2.5l-.94 2.06-2.06.94zm10 10l.94 2.06.94-2.06 2.06-.94-2.06-.94-.94-2.06-.94 2.06-2.06.94z\"/><path d=\"M17.41 7.96l-1.37-1.37c-.4-.4-.92-.59-1.43-.59-.52 0-1.04.2-1.43.59L10.3 9.45l-7.72 7.72c-.78.78-.78 2.05 0 2.83L4 21.41c.39.39.9.59 1.41.59.51 0 1.02-.2 1.41-.59l7.78-7.78 2.81-2.81c.8-.78.8-2.07 0-2.86zM5.41 20L4 18.59l7.72-7.72 1.47 1.35L5.41 20z\"/>\n",
              "  </svg>\n",
              "      </button>\n",
              "      \n",
              "  <style>\n",
              "    .colab-df-container {\n",
              "      display:flex;\n",
              "      flex-wrap:wrap;\n",
              "      gap: 12px;\n",
              "    }\n",
              "\n",
              "    .colab-df-convert {\n",
              "      background-color: #E8F0FE;\n",
              "      border: none;\n",
              "      border-radius: 50%;\n",
              "      cursor: pointer;\n",
              "      display: none;\n",
              "      fill: #1967D2;\n",
              "      height: 32px;\n",
              "      padding: 0 0 0 0;\n",
              "      width: 32px;\n",
              "    }\n",
              "\n",
              "    .colab-df-convert:hover {\n",
              "      background-color: #E2EBFA;\n",
              "      box-shadow: 0px 1px 2px rgba(60, 64, 67, 0.3), 0px 1px 3px 1px rgba(60, 64, 67, 0.15);\n",
              "      fill: #174EA6;\n",
              "    }\n",
              "\n",
              "    [theme=dark] .colab-df-convert {\n",
              "      background-color: #3B4455;\n",
              "      fill: #D2E3FC;\n",
              "    }\n",
              "\n",
              "    [theme=dark] .colab-df-convert:hover {\n",
              "      background-color: #434B5C;\n",
              "      box-shadow: 0px 1px 3px 1px rgba(0, 0, 0, 0.15);\n",
              "      filter: drop-shadow(0px 1px 2px rgba(0, 0, 0, 0.3));\n",
              "      fill: #FFFFFF;\n",
              "    }\n",
              "  </style>\n",
              "\n",
              "      <script>\n",
              "        const buttonEl =\n",
              "          document.querySelector('#df-61be5258-561c-499e-a7a9-170283915b4b button.colab-df-convert');\n",
              "        buttonEl.style.display =\n",
              "          google.colab.kernel.accessAllowed ? 'block' : 'none';\n",
              "\n",
              "        async function convertToInteractive(key) {\n",
              "          const element = document.querySelector('#df-61be5258-561c-499e-a7a9-170283915b4b');\n",
              "          const dataTable =\n",
              "            await google.colab.kernel.invokeFunction('convertToInteractive',\n",
              "                                                     [key], {});\n",
              "          if (!dataTable) return;\n",
              "\n",
              "          const docLinkHtml = 'Like what you see? Visit the ' +\n",
              "            '<a target=\"_blank\" href=https://colab.research.google.com/notebooks/data_table.ipynb>data table notebook</a>'\n",
              "            + ' to learn more about interactive tables.';\n",
              "          element.innerHTML = '';\n",
              "          dataTable['output_type'] = 'display_data';\n",
              "          await google.colab.output.renderOutput(dataTable, element);\n",
              "          const docLink = document.createElement('div');\n",
              "          docLink.innerHTML = docLinkHtml;\n",
              "          element.appendChild(docLink);\n",
              "        }\n",
              "      </script>\n",
              "    </div>\n",
              "  </div>\n",
              "  "
            ]
          },
          "metadata": {},
          "execution_count": 37
        }
      ]
    },
    {
      "cell_type": "code",
      "source": [
        "import sklearn.metrics as metrics\n",
        "dtfpr,dttpr,dtthreshold=metrics.roc_curve(b_test,dtpred)\n",
        "dtroc_auc=metrics.auc(dtfpr,dttpr)"
      ],
      "metadata": {
        "id": "U5malC2AWPFb"
      },
      "execution_count": null,
      "outputs": []
    },
    {
      "cell_type": "code",
      "source": [
        "dtroc_auc"
      ],
      "metadata": {
        "colab": {
          "base_uri": "https://localhost:8080/"
        },
        "id": "t1dSZVdmWTGU",
        "outputId": "2b0295f0-bd0f-454f-8de0-67ba9cd08cc4"
      },
      "execution_count": null,
      "outputs": [
        {
          "output_type": "execute_result",
          "data": {
            "text/plain": [
              "0.8222763237979306"
            ]
          },
          "metadata": {},
          "execution_count": 39
        }
      ]
    },
    {
      "cell_type": "code",
      "source": [
        "import matplotlib.pyplot as plt\n",
        "plt.plot(dtfpr,dttpr,'b',label='avuc=%0.2f'%dtroc_auc)\n",
        "plt.legend()\n",
        "plt.show()"
      ],
      "metadata": {
        "colab": {
          "base_uri": "https://localhost:8080/",
          "height": 265
        },
        "id": "439uGLT6X6vq",
        "outputId": "248eaa76-adc2-4808-bea5-acbf9449d3ab"
      },
      "execution_count": null,
      "outputs": [
        {
          "output_type": "display_data",
          "data": {
            "text/plain": [
              "<Figure size 432x288 with 1 Axes>"
            ],
            "image/png": "[encoded data removed]"
          },
          "metadata": {
            "needs_background": "light"
          }
        }
      ]
    },
    {
      "cell_type": "code",
      "source": [
        "from sklearn.ensemble import RandomForestClassifier\n",
        "rf=RandomForestClassifier(n_estimators=10,criterion=\"entropy\",random_state=100)\n",
        "rf.fit(a_train,b_train)"
      ],
      "metadata": {
        "colab": {
          "base_uri": "https://localhost:8080/"
        },
        "id": "uylCJW5gX-IP",
        "outputId": "bfff89c1-ae21-420c-d3ba-ce3a5302569d"
      },
      "execution_count": null,
      "outputs": [
        {
          "output_type": "execute_result",
          "data": {
            "text/plain": [
              "RandomForestClassifier(criterion='entropy', n_estimators=10, random_state=100)"
            ]
          },
          "metadata": {},
          "execution_count": 41
        }
      ]
    },
    {
      "cell_type": "code",
      "source": [
        "rfpred=rf.predict(a_test)"
      ],
      "metadata": {
        "id": "DBTWJ5jjYBCm"
      },
      "execution_count": null,
      "outputs": []
    },
    {
      "cell_type": "code",
      "source": [
        "rfpred"
      ],
      "metadata": {
        "colab": {
          "base_uri": "https://localhost:8080/"
        },
        "id": "L50QDSW7YDPP",
        "outputId": "c07d21f7-5ef7-4fd1-8bbe-8ce0c0b6a94c"
      },
      "execution_count": null,
      "outputs": [
        {
          "output_type": "execute_result",
          "data": {
            "text/plain": [
              "array([0, 0, 1, 1, 0, 0, 1, 0, 1, 1, 0, 0, 1, 1, 0, 0, 0, 0, 1, 1, 1, 1,\n",
              "       0, 0, 0, 0, 1, 0, 0, 1, 0, 0, 0, 0, 0, 1, 0, 1, 1, 0, 0, 0, 0, 1,\n",
              "       1, 0, 0, 1, 1, 0, 1, 0, 0, 1, 1, 0, 0, 0, 1, 0, 0, 1, 0, 1, 1, 1,\n",
              "       0, 0, 0, 0, 1, 0, 0, 1, 0, 0, 1, 1, 1, 0, 1, 0, 0, 1, 0, 1, 1, 0,\n",
              "       0, 1, 0, 1, 0, 1, 1, 0, 1, 1, 0, 0, 1, 0, 0, 1, 0, 1, 1, 0, 0, 0,\n",
              "       0, 1, 0, 0, 0])"
            ]
          },
          "metadata": {},
          "execution_count": 43
        }
      ]
    },
    {
      "cell_type": "code",
      "source": [
        "b_test"
      ],
      "metadata": {
        "colab": {
          "base_uri": "https://localhost:8080/"
        },
        "id": "Art3_NneYFtR",
        "outputId": "18f5587d-e3b4-492c-94e4-ecfb3e25d1e8"
      },
      "execution_count": null,
      "outputs": [
        {
          "output_type": "execute_result",
          "data": {
            "text/plain": [
              "array([0, 0, 1, 1, 0, 0, 1, 0, 1, 0, 0, 1, 1, 1, 0, 1, 0, 0, 1, 1, 1, 1,\n",
              "       0, 0, 0, 0, 1, 0, 1, 0, 0, 0, 0, 0, 1, 1, 0, 0, 1, 0, 1, 0, 0, 1,\n",
              "       0, 0, 0, 1, 1, 0, 1, 0, 0, 0, 1, 0, 0, 0, 1, 1, 0, 1, 0, 1, 1, 1,\n",
              "       0, 0, 0, 0, 1, 0, 0, 1, 0, 0, 1, 1, 1, 0, 1, 1, 0, 0, 0, 1, 1, 1,\n",
              "       0, 1, 1, 0, 0, 1, 1, 0, 1, 1, 0, 0, 1, 1, 1, 1, 1, 1, 0, 0, 1, 0,\n",
              "       0, 1, 0, 0, 0])"
            ]
          },
          "metadata": {},
          "execution_count": 44
        }
      ]
    },
    {
      "cell_type": "code",
      "source": [
        "rfaccuracy=accuracy_score(b_test,rfpred)"
      ],
      "metadata": {
        "id": "aauw93KyYIQ4"
      },
      "execution_count": null,
      "outputs": []
    },
    {
      "cell_type": "code",
      "source": [
        "rfaccuracy"
      ],
      "metadata": {
        "colab": {
          "base_uri": "https://localhost:8080/"
        },
        "id": "JVGzcuI0YM8o",
        "outputId": "9c0a1f73-6427-417a-dff3-5ebe049f5195"
      },
      "execution_count": null,
      "outputs": [
        {
          "output_type": "execute_result",
          "data": {
            "text/plain": [
              "0.8173913043478261"
            ]
          },
          "metadata": {},
          "execution_count": 46
        }
      ]
    },
    {
      "cell_type": "code",
      "source": [
        "rfcm=confusion_matrix(b_test,rfpred)"
      ],
      "metadata": {
        "id": "NQskRCuTYPxW"
      },
      "execution_count": null,
      "outputs": []
    },
    {
      "cell_type": "code",
      "source": [
        "rfcm"
      ],
      "metadata": {
        "colab": {
          "base_uri": "https://localhost:8080/"
        },
        "id": "IEJNtMbTYS-Y",
        "outputId": "e1347473-1140-4cb6-9b75-b0f294c50030"
      },
      "execution_count": null,
      "outputs": [
        {
          "output_type": "execute_result",
          "data": {
            "text/plain": [
              "array([[54,  8],\n",
              "       [13, 40]])"
            ]
          },
          "metadata": {},
          "execution_count": 48
        }
      ]
    },
    {
      "cell_type": "code",
      "source": [
        "from sklearn.model_selection import train_test_split\n",
        "a_train,a_test,b_train,b_test=train_test_split(a,b,test_size=0.2,random_state=2) #test_size=0.2 is 20% testing data"
      ],
      "metadata": {
        "id": "4em-_SxdYV3A"
      },
      "execution_count": null,
      "outputs": []
    },
    {
      "cell_type": "code",
      "source": [
        "from sklearn.linear_model import LinearRegression\n",
        "mlr=LinearRegression()\n",
        "mlr.fit(a_train,b_train)"
      ],
      "metadata": {
        "colab": {
          "base_uri": "https://localhost:8080/"
        },
        "id": "ihQbO7FiZH8u",
        "outputId": "65a3d73a-1faa-46f4-94b5-4db27d5a1bc0"
      },
      "execution_count": null,
      "outputs": [
        {
          "output_type": "execute_result",
          "data": {
            "text/plain": [
              "LinearRegression()"
            ]
          },
          "metadata": {},
          "execution_count": 50
        }
      ]
    },
    {
      "cell_type": "code",
      "source": [
        "bpred=mlr.predict(a_test)"
      ],
      "metadata": {
        "id": "9WmOgsgfZLG7"
      },
      "execution_count": null,
      "outputs": []
    },
    {
      "cell_type": "code",
      "source": [
        "bpred"
      ],
      "metadata": {
        "colab": {
          "base_uri": "https://localhost:8080/"
        },
        "id": "Nh_u9OYMZORg",
        "outputId": "8251b2a5-5a11-470c-d831-719e91de1b72"
      },
      "execution_count": null,
      "outputs": [
        {
          "output_type": "execute_result",
          "data": {
            "text/plain": [
              "array([ 3.31332953e-01,  2.42132588e-01,  7.64384731e-01,  6.23159721e-01,\n",
              "        1.61154142e-02,  5.70524757e-01,  8.37060862e-01,  3.04927560e-02,\n",
              "        4.50468418e-01,  9.91483808e-01,  3.11070291e-01,  5.69771334e-01,\n",
              "        7.23389994e-01,  8.68436072e-01,  2.35860495e-01,  2.16667044e-01,\n",
              "        1.61404122e-01,  5.06543058e-01,  4.29447073e-01,  3.80144678e-01,\n",
              "        6.45959703e-01,  8.65037777e-01,  1.26969843e-03,  1.10022732e-01,\n",
              "        1.86342163e-02,  1.53243790e-01,  6.97302478e-01,  1.55520973e-01,\n",
              "        3.04501495e-01,  5.45574227e-01,  2.46960351e-01,  1.11944919e-01,\n",
              "        3.37691907e-01,  4.29771331e-01,  3.03001042e-01,  7.53296528e-01,\n",
              "        1.30309739e-01,  6.07169587e-01,  6.08317215e-01,  1.46280788e-01,\n",
              "        1.00854419e+00,  1.35684294e-01,  3.45393468e-01,  7.87745775e-01,\n",
              "        6.89182366e-01,  4.70529885e-02,  1.50072250e-01,  6.55909315e-01,\n",
              "        5.27740296e-01,  1.54325693e-01,  7.70060209e-01,  1.28735117e-01,\n",
              "        4.67188669e-01,  4.27670041e-01,  8.36213146e-01, -7.24014744e-02,\n",
              "        1.74484459e-01,  4.25612181e-01,  8.39654871e-01,  8.99556971e-01,\n",
              "        2.55877316e-01,  5.35872061e-01,  1.22177974e-01,  4.11063168e-01,\n",
              "        7.13949571e-01,  1.16435947e+00,  2.52452505e-01,  4.11093747e-02,\n",
              "        4.91034166e-02,  6.01556624e-01,  1.31861818e+00,  3.90815369e-01,\n",
              "        5.74789853e-01,  6.77430811e-01, -6.57701740e-03,  4.22366472e-01,\n",
              "        5.80555402e-01,  6.16605788e-01,  1.21247081e+00,  4.48096942e-01,\n",
              "        3.69301304e-01,  5.99696952e-01,  1.79749857e-01,  3.73996604e-01,\n",
              "        3.85101599e-03,  5.72505238e-01,  9.20059080e-01,  4.22538144e-01,\n",
              "        4.17393555e-01,  7.16625181e-01,  1.17759136e+00,  9.76024563e-01,\n",
              "        5.37676649e-01,  4.78542836e-01,  3.60466978e-01,  2.16972217e-01,\n",
              "        1.09813555e+00,  4.21709513e-01,  6.95112331e-02,  4.44324621e-02,\n",
              "        7.74419598e-01,  1.29732209e-01,  8.21343084e-01,  7.22764812e-01,\n",
              "        3.07230139e-01,  1.19216368e+00,  3.97193409e-01,  2.39823628e-01,\n",
              "        4.90209580e-01,  1.83427941e-01,  1.94344472e-01,  1.39879768e+00,\n",
              "        3.03552055e-01,  2.09663822e-01,  2.85313602e-02])"
            ]
          },
          "metadata": {},
          "execution_count": 52
        }
      ]
    },
    {
      "cell_type": "code",
      "source": [
        "from sklearn.metrics import r2_score\n",
        "ac=r2_score(bpred,b_test)"
      ],
      "metadata": {
        "id": "Dpc18_teZQHt"
      },
      "execution_count": null,
      "outputs": []
    },
    {
      "cell_type": "code",
      "source": [
        "ac"
      ],
      "metadata": {
        "colab": {
          "base_uri": "https://localhost:8080/"
        },
        "id": "7iR84OxLA7xg",
        "outputId": "8b9eb8fd-7799-4ec4-fa04-038d956efe82"
      },
      "execution_count": null,
      "outputs": [
        {
          "output_type": "execute_result",
          "data": {
            "text/plain": [
              "-0.3894468493763974"
            ]
          },
          "metadata": {},
          "execution_count": 73
        }
      ]
    },
    {
      "cell_type": "code",
      "source": [
        "from sklearn.naive_bayes import GaussianNB\n",
        "gnb = GaussianNB()\n",
        "gnb.fit(a_train, b_train)"
      ],
      "metadata": {
        "colab": {
          "base_uri": "https://localhost:8080/"
        },
        "id": "q_xWZMzDaTkS",
        "outputId": "7c9ded88-7b0e-4fe9-8be6-4672dd7c366d"
      },
      "execution_count": null,
      "outputs": [
        {
          "output_type": "execute_result",
          "data": {
            "text/plain": [
              "GaussianNB()"
            ]
          },
          "metadata": {},
          "execution_count": 65
        }
      ]
    },
    {
      "cell_type": "code",
      "source": [
        "b_pred = gnb.predict(a_test)"
      ],
      "metadata": {
        "id": "7gqpRIPVaiNf"
      },
      "execution_count": null,
      "outputs": []
    },
    {
      "cell_type": "code",
      "source": [
        "b_pred"
      ],
      "metadata": {
        "colab": {
          "base_uri": "https://localhost:8080/"
        },
        "id": "nSfsyIxZamQg",
        "outputId": "c0f130df-3931-4716-bd1e-0f79c14d9a7a"
      },
      "execution_count": null,
      "outputs": [
        {
          "output_type": "execute_result",
          "data": {
            "text/plain": [
              "array([0, 0, 1, 1, 0, 0, 1, 0, 0, 1, 0, 0, 1, 1, 0, 0, 0, 0, 0, 0, 1, 1,\n",
              "       0, 0, 0, 0, 1, 0, 1, 1, 0, 0, 0, 0, 0, 1, 0, 0, 1, 0, 1, 1, 0, 1,\n",
              "       1, 0, 0, 1, 1, 0, 1, 0, 0, 0, 1, 0, 0, 0, 1, 1, 0, 1, 0, 0, 1, 1,\n",
              "       0, 0, 0, 0, 1, 0, 0, 1, 0, 0, 1, 1, 1, 0, 0, 0, 0, 1, 0, 0, 1, 1,\n",
              "       0, 1, 1, 1, 0, 1, 1, 0, 1, 0, 0, 0, 1, 0, 1, 1, 0, 1, 0, 0, 0, 0,\n",
              "       0, 1, 0, 0, 0])"
            ]
          },
          "metadata": {},
          "execution_count": 67
        }
      ]
    },
    {
      "cell_type": "code",
      "source": [
        "from sklearn import metrics\n",
        "ac=metrics.accuracy_score(b_test, b_pred)*100"
      ],
      "metadata": {
        "id": "C9RDG8bjaoFx"
      },
      "execution_count": null,
      "outputs": []
    },
    {
      "cell_type": "code",
      "source": [
        "ac"
      ],
      "metadata": {
        "colab": {
          "base_uri": "https://localhost:8080/"
        },
        "id": "-HmzwKy0a9Vg",
        "outputId": "c1d0711c-ead2-41a8-dfe3-6f9bca000820"
      },
      "execution_count": null,
      "outputs": [
        {
          "output_type": "execute_result",
          "data": {
            "text/plain": [
              "82.6086956521739"
            ]
          },
          "metadata": {},
          "execution_count": 71
        }
      ]
    },
    {
      "cell_type": "code",
      "source": [],
      "metadata": {
        "id": "zaWQ-2hWbBXH"
      },
      "execution_count": null,
      "outputs": []
    }
  ]
}